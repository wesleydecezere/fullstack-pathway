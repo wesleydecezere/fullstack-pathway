{
 "cells": [
  {
   "cell_type": "markdown",
   "metadata": {},
   "source": [
    "# JS ES6 ESSENTIALS\n",
    "**Instrutor**: Guilherme Cabrini da Silva\n",
    "**Cargo**: Front-end Exactworks"
   ]
  },
  {
   "cell_type": "markdown",
   "metadata": {},
   "source": [
    "## Introdução ao ES6"
   ]
  },
  {
   "cell_type": "markdown",
   "metadata": {},
   "source": [
    "### 1. História e conceitos da linguagem\n",
    " \n",
    "#### ECMAScript: Padrão de linguagens de script\n",
    " * ECMA-TC39\n",
    " * ECMA-ES2018\n",
    " * ECMA-ES.Next\n",
    " \n",
    "Etapas para aprovação de propostas ao ECMAScript\n",
    "  - Stage 0: strawman\n",
    "  - Stage 1: proposal\n",
    "  - Stage 2: draft\n",
    "  - Stage 3: candidate\n",
    "  - Stage 4: finished\n",
    "\n",
    "#### Conceitos\n",
    "* Linguagem interpretada: o código final é tal qual o código fonte, não precisa ser \"traduzido\" (compilado) para ser entendida \n",
    "* Tipagem fraca e dinâmica: aceita operações entre diferentes tipos (aritméticas, por exemplo) \n",
    "* Typescript: adiciona tipagem estática e outros tipos de dados (SuperSet)\n",
    "* Flow: alternatica ao Typescript, sem SuperSet\n",
    "* Funções de primeira classe e ordem maior: podem ser atribuídas a outros objetos\n",
    "* Closure (escopo léxico): \n",
    "  1. Global\n",
    "  2. Função\n",
    "  3. Bloco (if, while, ...): {}\n",
    "  \n",
    "  \n",
    "* Currying: quebrar o recebimento do parâmetros em subfunções\n",
    "    ```js\n",
    "    // sem currying\n",
    "    function exp(a,b,c) {\n",
    "        return (a^(b/c))\n",
    "    }\n",
    "\n",
    "    // com currying \n",
    "    function exp_curryed(a) {\n",
    "        return function(b) {\n",
    "            return function(c) {\n",
    "                return a^(b/c)\n",
    "            }\n",
    "        }\n",
    "    } \n",
    "\n",
    "    console.log(exp(4,6,3))\n",
    "    console.log(exp(4)(6)(3))\n",
    "```\n",
    "\n",
    "* Hoisting (levantar ou suspender algo)\n",
    "  - Em variáveis, eleva a declaração da variável ao topo do escopo. Consequentemente, a variável fica com valor undefined\n",
    "  - Em funções, eleva a função, integralmente, ao topo do escopo\n",
    "* Imutabilidade: uma vez declarada, uma variável nunca muda, mas seu conteúdo é copiado para outra variável (o mesmo vale para objetos)"
   ]
  },
  {
   "cell_type": "markdown",
   "metadata": {},
   "source": [
    "### 2. Tipos e variáveis"
   ]
  },
  {
   "cell_type": "markdown",
   "metadata": {},
   "source": [
    "#### Variáveis\n",
    "* var: variáveis do escopo global ou de função, pois não aceita escopo de bloco\n",
    "* let: variáveis dinânimas, do escopo funcional ou de bolco\n",
    "* const: variável estática (valor para tipos primitivos, referência para objetos), do escopo funcional ou de bloco"
   ]
  },
  {
   "cell_type": "markdown",
   "metadata": {},
   "source": [
    "#### Tipos \n",
    "##### Primitivos\n",
    "* stirng\n",
    "  - aceitam REGEX\n",
    "  - string.split(sep)\n",
    "  - string.replace(old_str, new_str)\n",
    "  - string.slice(idx_start, idx_end)\n",
    "  - string.substr(idx_start, lenght)\n",
    "* number\n",
    "  - number.toString()\n",
    "  - number.toFixed(casas_decimais)\n",
    "  - parseFloat(string)\n",
    "  - parseInt(stirng)\n",
    "* boolean\n",
    "* null\n",
    "  - seu tipo sempre é Object\n",
    "* undefined\n",
    "  - valor de variáveis declaradas, mas sem atribuição\n",
    "\n",
    "##### De referência\n",
    "* Object\n",
    "  - acessável por ponto (.) ou colchetes (obj[])\n",
    "  - é possível deletar propriedades com ```delete obj.prop```\n",
    "  - `Object.keys(obj)`\n",
    "  - `Object.values(obj)`\n",
    "  - `Object.entries(obj)`: retorna array de arrays, com pares contedo de proriedade e valor\n",
    "  - `Object.assign(obj1, obj2)` ou `Object.assign({}, obj1, obj2)`, para manter a imutabilidade\n",
    "  - `Object.freeze(obj)`: não permite alterações no objeto, mas não gera erros ao tentar\n",
    "  - `Object.seal(obj)`: permite somente trocar valor de propriedades (sem criar ou deletar)\n",
    "\n",
    "* Symbol\n",
    "  - são objetos únicos\n",
    "  - propridades do tipo Symbol não podem ser sobrescritas ou enumeradas (no for in, .keys, .values)\n",
    "  - propridades deste tipo são são acessadas com `Object.getOwnPropertSymbols(obj)`\n",
    "  - propriedades deste e demais tipos são acessadas com `Reflect.ownKeys(obj)`\n",
    "  - também são úteis para criação de um objeto semelhante a um `enum`\n",
    "  \n",
    "* Function\n",
    "  - funções são objetos *callable*\n",
    "  - arrow func tem retorno implícito\n",
    "  ```js\n",
    "    const arrFn = (value) => value*2 \n",
    "  ```\n",
    "  - podem chamar outras funções\n",
    "  - a principal diferença para funções tradicionais é que o recuperador de contexto `this` se comporta diferente: na arrFn, sempre se refere ao escopo da função, mesmo se estiver dentro de outro objeto; nas funções tradicionais, ele sempre se refere ao contexto que a executa.\n",
    "  \n",
    "* Arrays\n",
    "  - Coleção de qualquer tipo de variável\n",
    "  - `Array.isArray(arr)`\n",
    "  - `arr.forEach((arr_name, index, arr) => {do something})` \n",
    "  - `arr.filter(arr_name => arr_name.prop == value)`: retorna, em um novo objeto, os elementos do array que atendem à condição\n",
    "  - map\n",
    "      ```js\n",
    "      arr.map(arr_name => {\n",
    "          arr_name.new_prop = value\n",
    "          return arr_name\n",
    "      })\n",
    "      ```\n",
    "  - reduce: alterar o \"tipo\" do array\n",
    "      ```js\n",
    "      arr.reduce((new_var_to_return, arr_name) => {\n",
    "          new_var_to_return += arr_name.value\n",
    "          return new_var_to_return\n",
    "      }, new_var_to_return_initial_value)\n",
    "      ```"
   ]
  },
  {
   "cell_type": "markdown",
   "metadata": {},
   "source": [
    "### 3. Operadores"
   ]
  },
  {
   "cell_type": "markdown",
   "metadata": {},
   "source": [
    "* Aritméticos\n",
    "* Atribuição\n",
    "* Comparação\n",
    "  * ==: comparação entre valores\n",
    "  * ===: comparação estrita, que considera os tipos\n",
    "* Condicional\n",
    "  * condition ? value_if_true : value_if_false\n",
    "* Lógicos\n",
    "* Spread\n",
    "  ```js\n",
    "  let arr1 = [val1, val2]\n",
    "  let arr2 = [...arr1, val3]\n",
    "  ```\n",
    "* Outros\n",
    "  * `delete` *something*\n",
    "  * `typeof` *something*\n",
    "  * *something* `in` *somethinItems*: útil para verificar existência de propriedades de objetos, por exemplo\n",
    "  * *objeto* `instaceof` *someting*"
   ]
  },
  {
   "cell_type": "markdown",
   "metadata": {},
   "source": [
    "### 4. Estruturas condicionais e de repetição"
   ]
  },
  {
   "cell_type": "markdown",
   "metadata": {},
   "source": [
    "#### Condicionais (tal qual em C)\n",
    "* if, else, else if\n",
    "* switch\n",
    "\n",
    "#### Repetição (tal quel em C, exceto pelo for...in)\n",
    "* for, while, do-while\n",
    "* for...in: executa para todas as propriedades\n",
    "* for...of: executa somente para as propriedades enumeráveis"
   ]
  },
  {
   "cell_type": "code",
   "execution_count": 3,
   "metadata": {},
   "outputs": [
    {
     "name": "stdout",
     "output_type": "stream",
     "text": [
      "0\n",
      "1\n",
      "2\n",
      "size\n",
      "1\n",
      "2\n",
      "3\n"
     ]
    }
   ],
   "source": [
    "var arr = [1,2,3]\n",
    "arr.size = arr.lenght\n",
    "for (i in arr) {\n",
    "    console.log(i)\n",
    "}\n",
    "for (i of arr) {\n",
    "    console.log(i)\n",
    "}"
   ]
  }
 ],
 "metadata": {
  "kernelspec": {
   "display_name": "Javascript (Node.js)",
   "language": "javascript",
   "name": "javascript"
  },
  "language_info": {
   "file_extension": ".js",
   "mimetype": "application/javascript",
   "name": "javascript",
   "version": "14.17.3"
  }
 },
 "nbformat": 4,
 "nbformat_minor": 4
}
