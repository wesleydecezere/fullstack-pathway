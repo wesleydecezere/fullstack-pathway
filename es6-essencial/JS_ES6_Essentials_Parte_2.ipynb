{
  "nbformat": 4,
  "nbformat_minor": 0,
  "metadata": {
    "colab": {
      "name": "JS ES6 Essentials - Parte 2.ipynb",
      "provenance": [],
      "collapsed_sections": [
        "dDyIz_Q8O207"
      ]
    },
    "kernelspec": {
      "name": "javascript",
      "display_name": "Javascript"
    },
    "accelerator": "GPU"
  },
  "cells": [
    {
      "cell_type": "markdown",
      "metadata": {
        "id": "qzdUA7unIo4y"
      },
      "source": [
        "##### Running ijavascript on colab"
      ]
    },
    {
      "cell_type": "code",
      "metadata": {
        "id": "ZVkF16NwcMsZ"
      },
      "source": [
        "#/* run this once, then reload, and then skip this\n",
        "!npm install -g --unsafe-perm ijavascript\n",
        "!ijsinstall --install=global  # as fake comment */"
      ],
      "execution_count": null,
      "outputs": []
    },
    {
      "cell_type": "code",
      "metadata": {
        "colab": {
          "base_uri": "https://localhost:8080/"
        },
        "id": "0aWZtkgZsx1z",
        "outputId": "81966f72-3efd-418e-c98f-de081dd5ca87"
      },
      "source": [
        "!jupyter-kernelspec list"
      ],
      "execution_count": null,
      "outputs": [
        {
          "output_type": "stream",
          "name": "stdout",
          "text": [
            "Available kernels:\n",
            "  ir            /usr/local/share/jupyter/kernels/ir\n",
            "  javascript    /usr/local/share/jupyter/kernels/javascript\n",
            "  python2       /usr/local/share/jupyter/kernels/python2\n",
            "  python3       /usr/local/share/jupyter/kernels/python3\n"
          ]
        }
      ]
    },
    {
      "cell_type": "code",
      "metadata": {
        "id": "skqAs_UHc8_P"
      },
      "source": [
        "// need this for running shell command\n",
        "var { spawn } = require('child_process');\n",
        "var sh = (cmd) => { \n",
        "    $$.async();\n",
        "    var sp = spawn(cmd, { cwd: process.cwd(), stdio: 'pipe', shell: true, encoding: 'utf-8' });\n",
        "    sp.stdout.on('data', data => console.log(data.toString()));\n",
        "    sp.stderr.on('data', data => console.error(data.toString()));\n",
        "    sp.on('close', () => $$.done());\n",
        "};\n",
        "sh('npm init -y');"
      ],
      "execution_count": null,
      "outputs": []
    },
    {
      "cell_type": "markdown",
      "metadata": {
        "id": "cU2hGXqxtQqV"
      },
      "source": [
        "# JS ES6 ESSENTIALS\n",
        "**Instrutor**: Guilherme Cabrini da Silva \\\n",
        "**Cargo**: Front-end Exactworks"
      ]
    },
    {
      "cell_type": "markdown",
      "metadata": {
        "id": "K5BhH1sBuSmw"
      },
      "source": [
        "## OO e Design Patters na ES6"
      ]
    },
    {
      "cell_type": "markdown",
      "metadata": {
        "id": "f5vATs_Gunjg"
      },
      "source": [
        "### Introdução a OO"
      ]
    },
    {
      "cell_type": "markdown",
      "metadata": {
        "id": "Z_e2ogKlI9r0"
      },
      "source": [
        "#### Herança\n",
        "* baseada em protótipos: variáveis do tipo `prototype`\n",
        "* propriedade `__proto__` é herdada da prototype do objeto construtor\n",
        "* propriedade `contructor` é igual ao objeto construtor\n",
        "\n",
        "**Caracterísitcas no prototype** \\\n",
        "Para adcionar propriedades e métodos a um objeto, pode ser iteressante criá-los diretamente no seu `prototype`. Desta forma, as características dos objetos podem ser alteradas a qualquer momento, mesmo após a instanciação. Além disso, as propriedades são criadas somente na atribuição, e não a cada instranciação do objeto. \\\n",
        "\n",
        "*Observação*: Esta funcionalidade parece interessante para adicionar propriedades que serão herdadas por objetos filhos."
      ]
    },
    {
      "cell_type": "code",
      "metadata": {
        "colab": {
          "base_uri": "https://localhost:8080/"
        },
        "id": "-AYSh-ISyWlh",
        "outputId": "8e416bdc-c1ae-4aaf-8cb3-69eec5acdd4e"
      },
      "source": [
        "var frase = { conteudo: String('Oi galera') }\n",
        "console.log(frase.conteudo.constructor == String)\n",
        "console.log(frase.conteudo.__proto__ === String.prototype)"
      ],
      "execution_count": null,
      "outputs": [
        {
          "output_type": "stream",
          "name": "stdout",
          "text": [
            "true\n",
            "true\n"
          ]
        }
      ]
    },
    {
      "cell_type": "code",
      "metadata": {
        "colab": {
          "base_uri": "https://localhost:8080/"
        },
        "id": "tFrtlHVI3U5j",
        "outputId": "15759992-c40e-44ac-d30e-856c651b3256"
      },
      "source": [
        "function Pessoa() { }\n",
        "Pessoa.prototype.nome = ''\n",
        "Pessoa.prototype.comer = function () {}\n",
        "\n",
        "function Adulto(nome, trabalha) {\n",
        "  this.nome = nome\n",
        "  this.trabalha = trabalha\n",
        "}\n",
        "\n",
        "Adulto.prototype = Object.create(Pessoa)  // herança\n",
        "Adulto.prototype.reclamar = function (reclamacao) {\n",
        "  if (this.trabalha === true) {\n",
        "    console.log(reclamacao, reclamacao, reclamacao, reclamacao, reclamacao)\n",
        "  } else {\n",
        "    console.log(reclamacao)\n",
        "  }\n",
        "}\n",
        "\n",
        "var carlos = new Adulto('Carlos', true)\n",
        "carlos.reclamar('que dia cinza')"
      ],
      "execution_count": null,
      "outputs": [
        {
          "output_type": "stream",
          "name": "stdout",
          "text": [
            "que dia cinza que dia cinza que dia cinza que dia cinza que dia cinza\n"
          ]
        }
      ]
    },
    {
      "cell_type": "markdown",
      "metadata": {
        "id": "AlZWlSbb215a"
      },
      "source": [
        "#### Classes\n",
        "* Simplificação da herança de protótipos, criado no ES6\n",
        "\n",
        "*Características*\n",
        "* construtor do objeto `class` é declarado como `contructor(params) { }` e os comportamentos seguem a mesma lógica, como `comp1(params) { }` \n",
        "* a herança é estabelecida por *class* `extends` *class* e os parametros do objeto contrutor são passados por `super(params)`\n",
        "\n",
        "#### Modificadores de acesso\n",
        "* Atualmente, todas as características declaradas com `this` são públicas, enquanto as declaradas com `let` ou `const` são privadas, exigindo getters e setters, declarador como `get()` e `set()` diretamente \n",
        "* No Node.js 12, o `#` à frente da label da variável equivale ao modificador de acesso privado. Esta funcionalidade ainda não é suportada pelos navegadores.\n",
        "\n",
        "#### Encapsulamento\n",
        "* No ES6, é feito facilmente com os métodos `get` e `set`\n",
        "\n",
        "#### Static\n",
        "* Serve para acessar métodos e atributos de um objeto, sem a necessidade de instanciá-lo\n",
        "* No ES6, é feito como em Java"
      ]
    },
    {
      "cell_type": "markdown",
      "metadata": {
        "id": "xW-U6iCGJVTg"
      },
      "source": [
        "### Introdução a Design Patterns\n"
      ]
    },
    {
      "cell_type": "markdown",
      "metadata": {
        "id": "QiY2W6mdyamZ"
      },
      "source": [
        "### Definição\n",
        "* São padrões de projeto para solução ou prevenão problemas comuns\n",
        "\n",
        "### Tipos\n",
        "* Criação\n",
        "* Estrutural: forma como objetos e classes são criados para comportar projetos maiores\n",
        "* Comportamental: se preocupam em como as classes se relacionam\n",
        "\n",
        "### Mais utilizados\n",
        "* **Factory**: Funções que retornam objetos sem a necessidade do modificador `new`\n",
        "* **Singleton**: sempre retornar a mesma instância de um objeto que já foi instanciado\n",
        "* **Decorator**: uma função recebe uma outra função como parâmetro, sem alterar seu comportamento (executando-a sob certas condições\n",
        "* **Observer**: o *observer* monitora uma situação e, em certas circunstâncias, chama todos os *subscriber*\n",
        "* **Module**: organizar mellhor o código sem variáveis globais, separando os arquivos do projeto por responsabilidade, com `export defaul Fn`, por exemplo, e `import Fn from './file-path'`"
      ]
    },
    {
      "cell_type": "markdown",
      "metadata": {
        "id": "JarvGgq0ucmY"
      },
      "source": [
        "## Manipulação e iteração de arrays"
      ]
    },
    {
      "cell_type": "markdown",
      "metadata": {
        "id": "_zvImnhbJica"
      },
      "source": [
        "#### Criar \n",
        "```javascript\n",
        "const arr = [1,2,3]\n",
        "const arr2 = new Array(1,2,3)\n",
        "const arr2_empty = new Array(3) // out: [empty x 3]\n",
        "const arr3 = Array.of(1,2,3) // espera uma lista de quaiser tipos\n",
        "const arr4 = Array.from() // espera um array-like ou iterable-object como parametro\n",
        "```"
      ]
    },
    {
      "cell_type": "markdown",
      "metadata": {
        "id": "dHDsnUfZtoJk"
      },
      "source": [
        "#### Editar elementos\n",
        "* `push(items)`: adiciona um ou mais elementos no *final* do array, retorna length\n",
        "* `pop`: remove o ultimo elemento do array, retornando-o\n",
        "\n",
        "\n",
        "* `unshift(items)`: adiciona um ou mais elementos no *início* do array, retorna length\n",
        "* `shift`: remove o primeiro elemento do array, retornando-o\n",
        "\n",
        "\n",
        "* `arr.concat(arr2)`: faz merge entre dois arrays, sem alterar os originais\n",
        "\n",
        "\n",
        "* `slice(idx_start, idx_end)`: fatia o array de *idx_start* até *idx_end-1*, ou de idx_start até o final, retornando a fatia sem alterar o original\n",
        "* `splice(idx_start, length, new_items)`: remove elementos e adiciona outros no lugar, retornando os items removidos e alterando array original"
      ]
    },
    {
      "cell_type": "code",
      "metadata": {
        "colab": {
          "base_uri": "https://localhost:8080/"
        },
        "id": "cbgR47UvLD4m",
        "outputId": "6097eea3-810f-49d1-ac5d-4590dcdcb5b6"
      },
      "source": [
        "var arr4 = Array.of(5,7,6,5,3)\n",
        "arr4.shift(5,2,4,5)\n",
        "arr4"
      ],
      "execution_count": null,
      "outputs": [
        {
          "output_type": "execute_result",
          "data": {
            "text/plain": [
              "[ 7, 6, 5, 3 ]"
            ]
          },
          "metadata": {},
          "execution_count": 7
        }
      ]
    },
    {
      "cell_type": "markdown",
      "metadata": {
        "id": "dDyIz_Q8O207"
      },
      "source": [
        "#### Iterar elementos"
      ]
    },
    {
      "cell_type": "markdown",
      "metadata": {
        "id": "lVOoVcvEyC3e"
      },
      "source": [
        "##### Aplica uma função customizável no array\n",
        "* `arr.forEach((value, indice, arr) => { })`: executa uma ação (função) para cada elemento do array\n",
        "* `arr.map((value, indice, arr) => { })`: retorna um novo array com a função aplicada\n",
        "* `arr.flat(depth)`: elimina os depth subníveis de um array, concatenando-os num array (original_depth - depth)-dimensional\n",
        "* `flatMap`: executa um map e, depois, um flat(depth=1)\n",
        "\n",
        "##### Retorna iteráveis\n",
        "* `arr.keys()`: retorna um *Array Iterator* com as chaves do array\n",
        "* `arr.values()`: retorna um *Array Iterator* com os elementos do array\n",
        "* `arr.entries()`: retorna um *Array Iterator* com os pares de chabe-valor do array\n",
        "\n",
        "###### Filtros\n",
        "* `arr.find((value, index, arr) => {condition})`: retorna o primeiro item que satifizer a condição\n",
        "* `findIndex`: retorna primeiro o índice do elemento que satisfaz a condição\n",
        "* `filter`: retorna um novo array com todos os elementos que satisfazem a condição\n",
        "\n",
        "##### Retorna indice\n",
        "* `arr.indexOf(value)`: retorna o indice da primeira ocorrência de value no array\n",
        "* `arr.lastIndexOf(value)`: retorna o indice a ultima ocorrencia de value\n",
        "\n",
        "##### Retorna bool\n",
        "* `arr.includes(value)`: verifica se value está contido no array\n",
        "* `arr.some((value) => {condition})`: verifica se pelo menos algum value satisfaz a condition\n",
        "* `arr.every((value) => {conditio}`: verifica se todos os value satisfazem a condition\n",
        "\n",
        "##### Ordenação\n",
        "* `arr.sort((current, next) => metric_to_sort`: ordena os elementos com base em alguma métrica\n",
        "* `arr.reverse()`: inveverte o posição do array\n",
        "\n",
        "##### Transformar em outro tipo\n",
        "* `arr.join(sep)`: agrupa todos os elementos do array em uma string, separando-os pelo caracter *sep*\n",
        "* `arr.reduce((var_to_return, value, index, arr) => { }, init_value_var_to_return)`: executa uma função que recebe como parametro os elementos do array e retorna um variável específica, que \"resume\" os dados; o parâmetro *init_value_to_return* define o tipo da variável de retorno."
      ]
    },
    {
      "cell_type": "markdown",
      "metadata": {
        "id": "HU_AY1hKPE8e"
      },
      "source": [
        ""
      ]
    }
  ]
}